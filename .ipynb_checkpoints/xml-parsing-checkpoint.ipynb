{
 "cells": [
  {
   "cell_type": "code",
   "execution_count": 1,
   "metadata": {},
   "outputs": [],
   "source": [
    "import lxml"
   ]
  },
  {
   "cell_type": "code",
   "execution_count": 2,
   "metadata": {},
   "outputs": [],
   "source": [
    "from lxml import etree"
   ]
  },
  {
   "cell_type": "code",
   "execution_count": 3,
   "metadata": {},
   "outputs": [
    {
     "name": "stdout",
     "output_type": "stream",
     "text": [
      "<mets:mets xmlns:mets=\"http://www.loc.gov/METS/\" xmlns:xsi=\"http://www.w3.org/2001/XMLSchema-instance\" xmlns:mods=\"http://www.loc.gov/mods/v3\" xmlns:dv=\"http://dfg-viewer.de/\" xmlns:xlink=\"http://www.w3.org/1999/xlink\" xsi:schemaLocation=\"http://www.loc.gov/mods/v3 http://www.loc.gov/standards/mods/v3/mods-3-7.xsd http://www.loc.gov/METS/ http://www.loc.gov/standards/mets/version17/mets.v1-7.xsd\">\n",
      "   <mets:metsHdr CREATEDATE=\"2020-09-10T08:51:57\">\n",
      "      <mets:agent ROLE=\"CREATOR\" TYPE=\"ORGANIZATION\">\n",
      "         <mets:name>Verbundzentrale des GBV (VZG)</mets:name>\n",
      "      </mets:agent>\n",
      "   </mets:metsHdr>\n",
      "   <mets:dmdSec ID=\"dmd_kuniweb_1109058_1\">\n",
      "      <mets:mdWrap MDTYPE=\"MODS\">\n",
      "         <mets:xmlData>\n",
      "            <mods:mods>\n",
      "               <mods:titleInfo>\n",
      "                  <mods:title>\"Wasserträger\" aus Peru</mods:title>\n",
      "               </mods:titleInfo>\n",
      "               <mods:typeOfResource>three dimensional object</mods:typeOfResource>\n",
      "               <mods:genre valueURI=\"http://d-nb.info/gnd/4078931-7\">Völkerkunde</mods:genre>\n",
      "               <mods:originInfo>\n",
      "                  <mods:dateCreated encoding=\"iso8601\" point=\"start\">1400</mods:dateCreated>\n",
      "                  <mods:dateCreated encoding=\"iso8601\" point=\"end\">1600</mods:dateCreated>\n",
      "                  <mods:dateCreated>15./16. Jh. (Imperiale Phase)</mods:dateCreated>\n",
      "               </mods:originInfo>\n",
      "               <mods:physicalDescription>\n",
      "                  <mods:form>Ton</mods:form>\n",
      "                  <mods:form>Engobe</mods:form>\n",
      "                  <mods:extent>Höhe: 7 cm\n",
      "Breite: 6 cm\n",
      "Tiefe: 8 cm</mods:extent>\n",
      "               </mods:physicalDescription>\n",
      "               <mods:abstract>Hohlfigur eines Lastenträgers. Der Mann transportiert drei Gefäße auf dem Rücken, darunter einen kleinen aryballo, die für Inka typische amphorenartige Keramik. Die Fixierung der Gefäße erfolgte mithilfe eines Tragebandes, das durch Ösen gezogen wurde. Im Inka-Reich spezialisierten sich einige Siedlungen auf die Herstellung von Keramik.  (Landesmuseum Hannover)</mods:abstract>\n",
      "               <mods:subject valueURI=\"http://d-nb.info/gnd/4161757-5\">\n",
      "                  <mods:topic>Inka</mods:topic>\n",
      "               </mods:subject>\n",
      "               <mods:subject valueURI=\"http://obg.vocnet.org/x000564x\">\n",
      "                  <mods:topic>Bildwerk</mods:topic>\n",
      "               </mods:subject>\n",
      "               <mods:relatedItem ID=\"slg_0131\" type=\"host\">\n",
      "                  <mods:titleInfo>\n",
      "                     <mods:title>Ethnologie</mods:title>\n",
      "                  </mods:titleInfo>\n",
      "               </mods:relatedItem>\n",
      "               <mods:identifier type=\"kuni\">record_kuniweb_1109058</mods:identifier>\n",
      "               <mods:location>\n",
      "                  <mods:physicalLocation type=\"current\" valueURI=\"isil_DE-MUS-163517\">Landesmuseum Hannover</mods:physicalLocation>\n",
      "                  <mods:physicalLocation type=\"discovery\">Peruro (Arequipa)</mods:physicalLocation>\n",
      "                  <mods:shelfLocator>NLMH VK 10507</mods:shelfLocator>\n",
      "               </mods:location>\n",
      "               <mods:accessCondition type=\"use and reproduction\" xlink:href=\"https://creativecommons.org/licenses/by/4.0/deed.de\">Namensnennung 4.0 International (CC BY 4.0)</mods:accessCondition>\n",
      "               <mods:accessCondition type=\"use and reproduction\" xlink:href=\"https://www.deutsche-digitale-bibliothek.de/content/lizenzen/rv-fz\">Rechte vorbehalten – Freier Zugang</mods:accessCondition>\n",
      "               <mods:recordInfo>\n",
      "                  <mods:recordContentSource valueURI=\"http://ld.zdb-services.de/resource/organisations/DE-MUS-163517\">Landesmuseum Hannover</mods:recordContentSource>\n",
      "                  <mods:recordChangeDate encoding=\"iso8601\">2017-11-23T11:25:21</mods:recordChangeDate>\n",
      "                  <mods:recordIdentifier source=\"http://kuniweb.gbv.de\">1109058</mods:recordIdentifier>\n",
      "                  <mods:recordInfoNote type=\"licence\" xlink:href=\"https://creativecommons.org/publicdomain/zero/1.0/deed.de\">kein Copyright / Public domain (CC0 1.0)</mods:recordInfoNote>\n",
      "               </mods:recordInfo>\n",
      "            </mods:mods>\n",
      "         </mets:xmlData>\n",
      "      </mets:mdWrap>\n",
      "   </mets:dmdSec>\n",
      "   <mets:amdSec ID=\"amd_kuniweb_1109058_1\">\n",
      "      <mets:rightsMD ID=\"RIGHTS\">\n",
      "         <mets:mdWrap MDTYPE=\"OTHER\" MIMETYPE=\"text/xml\" OTHERMDTYPE=\"DVRIGHTS\">\n",
      "            <mets:xmlData>\n",
      "               <dv:rights>\n",
      "                  <dv:owner>Landesmuseum Hannover</dv:owner>\n",
      "                  <dv:ownerSiteURL>www.landesmuseum-hannover.de</dv:ownerSiteURL>\n",
      "               </dv:rights>\n",
      "            </mets:xmlData>\n",
      "         </mets:mdWrap>\n",
      "      </mets:rightsMD>\n",
      "   </mets:amdSec>\n",
      "   <mets:fileSec>\n",
      "      <mets:fileGrp USE=\"DEFAULT\">\n",
      "         <mets:file ID=\"file_kuniweb_1109058_1\" MIMETYPE=\"image/jpeg\">\n",
      "            <mets:FLocat LOCTYPE=\"URL\" xlink:href=\"https://kulturerbe.niedersachsen.de/rest/image/record_kuniweb_1109058/00000001.jpg/full/full/0/default.jpg\"/>\n",
      "         </mets:file>\n",
      "         <mets:file ID=\"file_kuniweb_1109058_2\" MIMETYPE=\"image/jpeg\">\n",
      "            <mets:FLocat LOCTYPE=\"URL\" xlink:href=\"https://kulturerbe.niedersachsen.de/rest/image/record_kuniweb_1109058/00000002.jpg/full/full/0/default.jpg\"/>\n",
      "         </mets:file>\n",
      "      </mets:fileGrp>\n",
      "   </mets:fileSec>\n",
      "   <mets:structMap TYPE=\"LOGICAL\">\n",
      "      <mets:div ADMID=\"amd_kuniweb_1109058_1\" DMDID=\"dmd_kuniweb_1109058_1\" ID=\"log_kuniweb_1109058_0\" TYPE=\"museum_object\"/>\n",
      "   </mets:structMap>\n",
      "   <mets:structMap TYPE=\"PHYSICAL\">\n",
      "      <mets:div TYPE=\"physSequence\" ID=\"phys_kuniweb_1109058_0\">\n",
      "         <mets:div ID=\"phys_kuniweb_1109058_1\" ORDER=\"1\">\n",
      "            <mets:fptr FILEID=\"file_kuniweb_1109058_1\"/>\n",
      "         </mets:div>\n",
      "         <mets:div ID=\"phys_kuniweb_1109058_2\" ORDER=\"2\">\n",
      "            <mets:fptr FILEID=\"file_kuniweb_1109058_2\"/>\n",
      "         </mets:div>\n",
      "      </mets:div>\n",
      "   </mets:structMap>\n",
      "   <mets:structLink>\n",
      "      <mets:smLink xlink:to=\"phys_kuniweb_1109058_1\" xlink:from=\"log_kuniweb_1109058_0\"/>\n",
      "      <mets:smLink xlink:to=\"phys_kuniweb_1109058_2\" xlink:from=\"log_kuniweb_1109058_0\"/>\n",
      "   </mets:structLink>\n",
      "</mets:mets>\n",
      "\n"
     ]
    }
   ],
   "source": [
    "tree2print = lxml.etree.parse(\"record_kuniweb_1109058.xml\")\n",
    "pretty = lxml.etree.tostring(tree2print, encoding=\"unicode\", pretty_print=True)\n",
    "print(pretty)"
   ]
  },
  {
   "cell_type": "code",
   "execution_count": 4,
   "metadata": {},
   "outputs": [
    {
     "ename": "FileNotFoundError",
     "evalue": "[Errno 2] No such file or directory: 'record_kuniweb_1109058.xml'",
     "output_type": "error",
     "traceback": [
      "\u001b[0;31m---------------------------------------------------------------------------\u001b[0m",
      "\u001b[0;31mFileNotFoundError\u001b[0m                         Traceback (most recent call last)",
      "\u001b[0;32m<ipython-input-4-10907e30f87d>\u001b[0m in \u001b[0;36m<module>\u001b[0;34m\u001b[0m\n\u001b[1;32m      1\u001b[0m \u001b[0;32mimport\u001b[0m \u001b[0mxml\u001b[0m\u001b[0;34m.\u001b[0m\u001b[0metree\u001b[0m\u001b[0;34m.\u001b[0m\u001b[0mElementTree\u001b[0m \u001b[0;32mas\u001b[0m \u001b[0mET\u001b[0m\u001b[0;34m\u001b[0m\u001b[0;34m\u001b[0m\u001b[0m\n\u001b[0;32m----> 2\u001b[0;31m \u001b[0mtree\u001b[0m \u001b[0;34m=\u001b[0m \u001b[0mET\u001b[0m\u001b[0;34m.\u001b[0m\u001b[0mparse\u001b[0m\u001b[0;34m(\u001b[0m\u001b[0;34m'record_kuniweb_1109058.xml'\u001b[0m\u001b[0;34m)\u001b[0m\u001b[0;34m\u001b[0m\u001b[0;34m\u001b[0m\u001b[0m\n\u001b[0m\u001b[1;32m      3\u001b[0m \u001b[0mroot\u001b[0m \u001b[0;34m=\u001b[0m \u001b[0mtree\u001b[0m\u001b[0;34m.\u001b[0m\u001b[0mgetroot\u001b[0m\u001b[0;34m(\u001b[0m\u001b[0;34m)\u001b[0m\u001b[0;34m\u001b[0m\u001b[0;34m\u001b[0m\u001b[0m\n",
      "\u001b[0;32m/usr/lib/python3.6/xml/etree/ElementTree.py\u001b[0m in \u001b[0;36mparse\u001b[0;34m(source, parser)\u001b[0m\n\u001b[1;32m   1194\u001b[0m     \"\"\"\n\u001b[1;32m   1195\u001b[0m     \u001b[0mtree\u001b[0m \u001b[0;34m=\u001b[0m \u001b[0mElementTree\u001b[0m\u001b[0;34m(\u001b[0m\u001b[0;34m)\u001b[0m\u001b[0;34m\u001b[0m\u001b[0;34m\u001b[0m\u001b[0m\n\u001b[0;32m-> 1196\u001b[0;31m     \u001b[0mtree\u001b[0m\u001b[0;34m.\u001b[0m\u001b[0mparse\u001b[0m\u001b[0;34m(\u001b[0m\u001b[0msource\u001b[0m\u001b[0;34m,\u001b[0m \u001b[0mparser\u001b[0m\u001b[0;34m)\u001b[0m\u001b[0;34m\u001b[0m\u001b[0;34m\u001b[0m\u001b[0m\n\u001b[0m\u001b[1;32m   1197\u001b[0m     \u001b[0;32mreturn\u001b[0m \u001b[0mtree\u001b[0m\u001b[0;34m\u001b[0m\u001b[0;34m\u001b[0m\u001b[0m\n\u001b[1;32m   1198\u001b[0m \u001b[0;34m\u001b[0m\u001b[0m\n",
      "\u001b[0;32m/usr/lib/python3.6/xml/etree/ElementTree.py\u001b[0m in \u001b[0;36mparse\u001b[0;34m(self, source, parser)\u001b[0m\n\u001b[1;32m    584\u001b[0m         \u001b[0mclose_source\u001b[0m \u001b[0;34m=\u001b[0m \u001b[0;32mFalse\u001b[0m\u001b[0;34m\u001b[0m\u001b[0;34m\u001b[0m\u001b[0m\n\u001b[1;32m    585\u001b[0m         \u001b[0;32mif\u001b[0m \u001b[0;32mnot\u001b[0m \u001b[0mhasattr\u001b[0m\u001b[0;34m(\u001b[0m\u001b[0msource\u001b[0m\u001b[0;34m,\u001b[0m \u001b[0;34m\"read\"\u001b[0m\u001b[0;34m)\u001b[0m\u001b[0;34m:\u001b[0m\u001b[0;34m\u001b[0m\u001b[0;34m\u001b[0m\u001b[0m\n\u001b[0;32m--> 586\u001b[0;31m             \u001b[0msource\u001b[0m \u001b[0;34m=\u001b[0m \u001b[0mopen\u001b[0m\u001b[0;34m(\u001b[0m\u001b[0msource\u001b[0m\u001b[0;34m,\u001b[0m \u001b[0;34m\"rb\"\u001b[0m\u001b[0;34m)\u001b[0m\u001b[0;34m\u001b[0m\u001b[0;34m\u001b[0m\u001b[0m\n\u001b[0m\u001b[1;32m    587\u001b[0m             \u001b[0mclose_source\u001b[0m \u001b[0;34m=\u001b[0m \u001b[0;32mTrue\u001b[0m\u001b[0;34m\u001b[0m\u001b[0;34m\u001b[0m\u001b[0m\n\u001b[1;32m    588\u001b[0m         \u001b[0;32mtry\u001b[0m\u001b[0;34m:\u001b[0m\u001b[0;34m\u001b[0m\u001b[0;34m\u001b[0m\u001b[0m\n",
      "\u001b[0;31mFileNotFoundError\u001b[0m: [Errno 2] No such file or directory: 'record_kuniweb_1109058.xml'"
     ]
    }
   ],
   "source": [
    "import xml.etree.ElementTree as ET\n",
    "tree = ET.parse('record_kuniweb_1109058.xml')\n",
    "root = tree.getroot()"
   ]
  },
  {
   "cell_type": "code",
   "execution_count": null,
   "metadata": {},
   "outputs": [],
   "source": [
    "# Work on reading xml with namespaces"
   ]
  },
  {
   "cell_type": "code",
   "execution_count": null,
   "metadata": {},
   "outputs": [],
   "source": [
    "root.tag"
   ]
  },
  {
   "cell_type": "code",
   "execution_count": null,
   "metadata": {},
   "outputs": [],
   "source": [
    "root.attrib"
   ]
  },
  {
   "cell_type": "code",
   "execution_count": null,
   "metadata": {},
   "outputs": [],
   "source": [
    "agent = root.find(\".//{http://www.loc.gov/METS/}agent\")"
   ]
  },
  {
   "cell_type": "code",
   "execution_count": null,
   "metadata": {},
   "outputs": [],
   "source": [
    "agent.attrib"
   ]
  },
  {
   "cell_type": "code",
   "execution_count": null,
   "metadata": {},
   "outputs": [],
   "source": [
    "ns = {'mets':'http://www.loc.gov/METS/'}"
   ]
  },
  {
   "cell_type": "code",
   "execution_count": null,
   "metadata": {},
   "outputs": [],
   "source": [
    "agent = root.find('.//mets:agent', ns)"
   ]
  },
  {
   "cell_type": "code",
   "execution_count": null,
   "metadata": {},
   "outputs": [],
   "source": [
    "agent.attrib"
   ]
  },
  {
   "cell_type": "code",
   "execution_count": null,
   "metadata": {},
   "outputs": [],
   "source": [
    "# print mets:fileSec"
   ]
  },
  {
   "cell_type": "code",
   "execution_count": null,
   "metadata": {},
   "outputs": [],
   "source": [
    "file_sections = root.findall('./mets:fileSec', ns)"
   ]
  },
  {
   "cell_type": "code",
   "execution_count": null,
   "metadata": {},
   "outputs": [],
   "source": [
    "import requests\n",
    "import io\n",
    "from PIL import Image\n",
    "import os\n",
    "import hashlib"
   ]
  },
  {
   "cell_type": "code",
   "execution_count": null,
   "metadata": {},
   "outputs": [],
   "source": [
    "# this is the original function, as I found it online\n",
    "def persist_image(folder_path:str,url:str):\n",
    "    try:\n",
    "        image_content = requests.get(url).content\n",
    "\n",
    "    except Exception as e:\n",
    "        print(f\"ERROR - Could not download {url} - {e}\")\n",
    "\n",
    "    try:\n",
    "        image_file = io.BytesIO(image_content)\n",
    "        image = Image.open(image_file).convert('RGB')\n",
    "        file_path = os.path.join(folder_path,hashlib.sha1(image_content).hexdigest()[:10] + '.jpg')\n",
    "        with open(file_path, 'wb') as f:\n",
    "            image.save(f, \"JPEG\", quality=85)\n",
    "        print(f\"SUCCESS - saved {url} - as {file_path}\")\n",
    "    except Exception as e:\n",
    "        print(f\"ERROR - Could not save {url} - {e}\")"
   ]
  },
  {
   "cell_type": "code",
   "execution_count": null,
   "metadata": {},
   "outputs": [],
   "source": [
    "# this is my version of the function\n",
    "def persist_image(folder_path:str,url:str):\n",
    "    try:\n",
    "        image_content = requests.get(url).content\n",
    "\n",
    "    except Exception as e:\n",
    "        print(f\"ERROR - Could not download {url} - {e}\")\n",
    "\n",
    "    try:\n",
    "        image_file = io.BytesIO(image_content)\n",
    "        image = Image.open(image_file)\n",
    "        file_path = os.path.join(folder_path,image_name)\n",
    "        with open(file_path, 'wb') as f:\n",
    "            image.save(f)\n",
    "        print(f\"SUCCESS - saved {url} - as {file_path}\")\n",
    "    except Exception as e:\n",
    "        print(f\"ERROR - Could not save {url} - {e}\")"
   ]
  },
  {
   "cell_type": "code",
   "execution_count": null,
   "metadata": {},
   "outputs": [],
   "source": [
    "for file_section in file_sections:\n",
    "    files = file_section.findall('.//mets:file', ns)\n",
    "    for file in files:\n",
    "        file_location = file.find('./mets:FLocat', ns)\n",
    "        # get original uri\n",
    "        image_uri = file_location.get('{http://www.w3.org/1999/xlink}href')\n",
    "        \n",
    "        # get reduced size image uri\n",
    "        image_uri = image_uri.replace('full/full','full/!800,800')\n",
    "        print(image_uri)\n",
    "        \n",
    "        # set name of image file\n",
    "        image_name_start = image_uri.find('kuniweb_') + 8\n",
    "        image_name_end = image_name_start + 6\n",
    "        suffix_index = image_name_end + 9\n",
    "        image_name = image_uri[image_name_start:image_name_end+1] + '_' + image_uri[suffix_index] + '.jpg'\n",
    "        print(image_name)\n",
    "        \n",
    "        # download image\n",
    "        persist_image('../../Coding_da_Vinci/CdV_Niedersachsen_2020/Datengeber/Datensets/Landesmuseum Hannover/Ethnologie/Mediendateien',image_uri)"
   ]
  }
 ],
 "metadata": {
  "kernelspec": {
   "display_name": "Python 3",
   "language": "python",
   "name": "python3"
  },
  "language_info": {
   "codemirror_mode": {
    "name": "ipython",
    "version": 3
   },
   "file_extension": ".py",
   "mimetype": "text/x-python",
   "name": "python",
   "nbconvert_exporter": "python",
   "pygments_lexer": "ipython3",
   "version": "3.6.9"
  }
 },
 "nbformat": 4,
 "nbformat_minor": 4
}
