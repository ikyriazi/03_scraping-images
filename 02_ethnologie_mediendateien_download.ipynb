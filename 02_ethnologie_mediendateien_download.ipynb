{
 "cells": [
  {
   "cell_type": "code",
   "execution_count": 1,
   "metadata": {},
   "outputs": [],
   "source": [
    "import glob"
   ]
  },
  {
   "cell_type": "code",
   "execution_count": 2,
   "metadata": {},
   "outputs": [],
   "source": [
    "import xml.etree.ElementTree as ET"
   ]
  },
  {
   "cell_type": "code",
   "execution_count": 3,
   "metadata": {},
   "outputs": [],
   "source": [
    "xml_files = glob.glob('ethnologie-metadaten/*')"
   ]
  },
  {
   "cell_type": "code",
   "execution_count": 4,
   "metadata": {},
   "outputs": [],
   "source": [
    "ns = {'mets':'http://www.loc.gov/METS/'}"
   ]
  },
  {
   "cell_type": "code",
   "execution_count": 5,
   "metadata": {},
   "outputs": [],
   "source": [
    "import requests\n",
    "import io\n",
    "from PIL import Image\n",
    "import os"
   ]
  },
  {
   "cell_type": "code",
   "execution_count": 6,
   "metadata": {},
   "outputs": [],
   "source": [
    "# download images function\n",
    "def persist_image(folder_path:str,url:str):\n",
    "    try:\n",
    "        image_content = requests.get(url).content\n",
    "\n",
    "    except Exception as e:\n",
    "        print(f\"ERROR - Could not download {url} - {e}\")\n",
    "\n",
    "    try:\n",
    "        image_file = io.BytesIO(image_content)\n",
    "        image = Image.open(image_file)\n",
    "        file_path = os.path.join(folder_path,image_name)\n",
    "        with open(file_path, 'wb') as f:\n",
    "            image.save(f)\n",
    "        print(f\"SUCCESS - saved {url} - as {file_path}\")\n",
    "    except Exception as e:\n",
    "        print(f\"ERROR - Could not save {url} - {e}\")"
   ]
  },
  {
   "cell_type": "code",
   "execution_count": 7,
   "metadata": {},
   "outputs": [
    {
     "name": "stdout",
     "output_type": "stream",
     "text": [
      "https://kulturerbe.niedersachsen.de/rest/image/record_kuniweb_1347062/00000001.jpg/full/!800,800/0/default.jpg\n",
      "1347062_1.jpg\n",
      "ERROR - Could not save https://kulturerbe.niedersachsen.de/rest/image/record_kuniweb_1347062/00000001.jpg/full/!800,800/0/default.jpg - [Errno 2] No such file or directory: '../../../Coding_da_Vinci/CdV_Niedersachsen_2020/Datengeber/Datensets/Landesmuseum Hannover/Ethnologie/Mediendateien/1347062_1.jpg'\n",
      "https://kulturerbe.niedersachsen.de/rest/image/record_kuniweb_1351600/00000001.jpg/full/!800,800/0/default.jpg\n",
      "1351600_1.jpg\n",
      "ERROR - Could not save https://kulturerbe.niedersachsen.de/rest/image/record_kuniweb_1351600/00000001.jpg/full/!800,800/0/default.jpg - [Errno 2] No such file or directory: '../../../Coding_da_Vinci/CdV_Niedersachsen_2020/Datengeber/Datensets/Landesmuseum Hannover/Ethnologie/Mediendateien/1351600_1.jpg'\n",
      "https://kulturerbe.niedersachsen.de/rest/image/record_kuniweb_1352309/00000001.jpg/full/!800,800/0/default.jpg\n",
      "1352309_1.jpg\n",
      "ERROR - Could not save https://kulturerbe.niedersachsen.de/rest/image/record_kuniweb_1352309/00000001.jpg/full/!800,800/0/default.jpg - [Errno 2] No such file or directory: '../../../Coding_da_Vinci/CdV_Niedersachsen_2020/Datengeber/Datensets/Landesmuseum Hannover/Ethnologie/Mediendateien/1352309_1.jpg'\n",
      "https://kulturerbe.niedersachsen.de/rest/image/record_kuniweb_1351166/00000001.jpg/full/!800,800/0/default.jpg\n",
      "1351166_1.jpg\n",
      "ERROR - Could not save https://kulturerbe.niedersachsen.de/rest/image/record_kuniweb_1351166/00000001.jpg/full/!800,800/0/default.jpg - [Errno 2] No such file or directory: '../../../Coding_da_Vinci/CdV_Niedersachsen_2020/Datengeber/Datensets/Landesmuseum Hannover/Ethnologie/Mediendateien/1351166_1.jpg'\n",
      "https://kulturerbe.niedersachsen.de/rest/image/record_kuniweb_1348437/00000001.jpg/full/!800,800/0/default.jpg\n",
      "1348437_1.jpg\n",
      "ERROR - Could not save https://kulturerbe.niedersachsen.de/rest/image/record_kuniweb_1348437/00000001.jpg/full/!800,800/0/default.jpg - [Errno 2] No such file or directory: '../../../Coding_da_Vinci/CdV_Niedersachsen_2020/Datengeber/Datensets/Landesmuseum Hannover/Ethnologie/Mediendateien/1348437_1.jpg'\n",
      "https://kulturerbe.niedersachsen.de/rest/image/record_kuniweb_1350278/00000001.jpg/full/!800,800/0/default.jpg\n",
      "1350278_1.jpg\n",
      "ERROR - Could not save https://kulturerbe.niedersachsen.de/rest/image/record_kuniweb_1350278/00000001.jpg/full/!800,800/0/default.jpg - [Errno 2] No such file or directory: '../../../Coding_da_Vinci/CdV_Niedersachsen_2020/Datengeber/Datensets/Landesmuseum Hannover/Ethnologie/Mediendateien/1350278_1.jpg'\n",
      "https://kulturerbe.niedersachsen.de/rest/image/record_kuniweb_1347704/00000001.jpg/full/!800,800/0/default.jpg\n",
      "1347704_1.jpg\n",
      "ERROR - Could not save https://kulturerbe.niedersachsen.de/rest/image/record_kuniweb_1347704/00000001.jpg/full/!800,800/0/default.jpg - [Errno 2] No such file or directory: '../../../Coding_da_Vinci/CdV_Niedersachsen_2020/Datengeber/Datensets/Landesmuseum Hannover/Ethnologie/Mediendateien/1347704_1.jpg'\n",
      "https://kulturerbe.niedersachsen.de/rest/image/record_kuniweb_1348423/00000001.jpg/full/!800,800/0/default.jpg\n",
      "1348423_1.jpg\n",
      "ERROR - Could not save https://kulturerbe.niedersachsen.de/rest/image/record_kuniweb_1348423/00000001.jpg/full/!800,800/0/default.jpg - [Errno 2] No such file or directory: '../../../Coding_da_Vinci/CdV_Niedersachsen_2020/Datengeber/Datensets/Landesmuseum Hannover/Ethnologie/Mediendateien/1348423_1.jpg'\n",
      "https://kulturerbe.niedersachsen.de/rest/image/record_kuniweb_1347710/00000001.jpg/full/!800,800/0/default.jpg\n",
      "1347710_1.jpg\n",
      "ERROR - Could not save https://kulturerbe.niedersachsen.de/rest/image/record_kuniweb_1347710/00000001.jpg/full/!800,800/0/default.jpg - [Errno 2] No such file or directory: '../../../Coding_da_Vinci/CdV_Niedersachsen_2020/Datengeber/Datensets/Landesmuseum Hannover/Ethnologie/Mediendateien/1347710_1.jpg'\n",
      "https://kulturerbe.niedersachsen.de/rest/image/record_kuniweb_1348345/00000001.jpg/full/!800,800/0/default.jpg\n",
      "1348345_1.jpg\n",
      "ERROR - Could not save https://kulturerbe.niedersachsen.de/rest/image/record_kuniweb_1348345/00000001.jpg/full/!800,800/0/default.jpg - [Errno 2] No such file or directory: '../../../Coding_da_Vinci/CdV_Niedersachsen_2020/Datengeber/Datensets/Landesmuseum Hannover/Ethnologie/Mediendateien/1348345_1.jpg'\n",
      "https://kulturerbe.niedersachsen.de/rest/image/record_kuniweb_1347076/00000001.jpg/full/!800,800/0/default.jpg\n",
      "1347076_1.jpg\n",
      "ERROR - Could not save https://kulturerbe.niedersachsen.de/rest/image/record_kuniweb_1347076/00000001.jpg/full/!800,800/0/default.jpg - [Errno 2] No such file or directory: '../../../Coding_da_Vinci/CdV_Niedersachsen_2020/Datengeber/Datensets/Landesmuseum Hannover/Ethnologie/Mediendateien/1347076_1.jpg'\n",
      "https://kulturerbe.niedersachsen.de/rest/image/record_kuniweb_1351614/00000001.jpg/full/!800,800/0/default.jpg\n",
      "1351614_1.jpg\n",
      "ERROR - Could not save https://kulturerbe.niedersachsen.de/rest/image/record_kuniweb_1351614/00000001.jpg/full/!800,800/0/default.jpg - [Errno 2] No such file or directory: '../../../Coding_da_Vinci/CdV_Niedersachsen_2020/Datengeber/Datensets/Landesmuseum Hannover/Ethnologie/Mediendateien/1351614_1.jpg'\n",
      "https://kulturerbe.niedersachsen.de/rest/image/record_kuniweb_1346368/00000001.jpg/full/!800,800/0/default.jpg\n",
      "1346368_1.jpg\n",
      "ERROR - Could not save https://kulturerbe.niedersachsen.de/rest/image/record_kuniweb_1346368/00000001.jpg/full/!800,800/0/default.jpg - [Errno 2] No such file or directory: '../../../Coding_da_Vinci/CdV_Niedersachsen_2020/Datengeber/Datensets/Landesmuseum Hannover/Ethnologie/Mediendateien/1346368_1.jpg'\n",
      "https://kulturerbe.niedersachsen.de/rest/image/record_kuniweb_1352335/00000001.jpg/full/!800,800/0/default.jpg\n",
      "1352335_1.jpg\n",
      "ERROR - Could not save https://kulturerbe.niedersachsen.de/rest/image/record_kuniweb_1352335/00000001.jpg/full/!800,800/0/default.jpg - [Errno 2] No such file or directory: '../../../Coding_da_Vinci/CdV_Niedersachsen_2020/Datengeber/Datensets/Landesmuseum Hannover/Ethnologie/Mediendateien/1352335_1.jpg'\n",
      "https://kulturerbe.niedersachsen.de/rest/image/record_kuniweb_1345891/00000001.jpg/full/!800,800/0/default.jpg\n",
      "1345891_1.jpg\n",
      "ERROR - Could not save https://kulturerbe.niedersachsen.de/rest/image/record_kuniweb_1345891/00000001.jpg/full/!800,800/0/default.jpg - [Errno 2] No such file or directory: '../../../Coding_da_Vinci/CdV_Niedersachsen_2020/Datengeber/Datensets/Landesmuseum Hannover/Ethnologie/Mediendateien/1345891_1.jpg'\n",
      "https://kulturerbe.niedersachsen.de/rest/image/record_kuniweb_1350522/00000001.jpg/full/!800,800/0/default.jpg\n",
      "1350522_1.jpg\n",
      "ERROR - Could not save https://kulturerbe.niedersachsen.de/rest/image/record_kuniweb_1350522/00000001.jpg/full/!800,800/0/default.jpg - [Errno 2] No such file or directory: '../../../Coding_da_Vinci/CdV_Niedersachsen_2020/Datengeber/Datensets/Landesmuseum Hannover/Ethnologie/Mediendateien/1350522_1.jpg'\n",
      "https://kulturerbe.niedersachsen.de/rest/image/record_kuniweb_1346340/00000001.jpg/full/!800,800/0/default.jpg\n",
      "1346340_1.jpg\n",
      "ERROR - Could not save https://kulturerbe.niedersachsen.de/rest/image/record_kuniweb_1346340/00000001.jpg/full/!800,800/0/default.jpg - [Errno 2] No such file or directory: '../../../Coding_da_Vinci/CdV_Niedersachsen_2020/Datengeber/Datensets/Landesmuseum Hannover/Ethnologie/Mediendateien/1346340_1.jpg'\n",
      "https://kulturerbe.niedersachsen.de/rest/image/record_kuniweb_1349073/00000001.jpg/full/!800,800/0/default.jpg\n",
      "1349073_1.jpg\n",
      "ERROR - Could not save https://kulturerbe.niedersachsen.de/rest/image/record_kuniweb_1349073/00000001.jpg/full/!800,800/0/default.jpg - [Errno 2] No such file or directory: '../../../Coding_da_Vinci/CdV_Niedersachsen_2020/Datengeber/Datensets/Landesmuseum Hannover/Ethnologie/Mediendateien/1349073_1.jpg'\n",
      "https://kulturerbe.niedersachsen.de/rest/image/record_kuniweb_1346426/00000001.jpg/full/!800,800/0/default.jpg\n",
      "1346426_1.jpg\n",
      "ERROR - Could not save https://kulturerbe.niedersachsen.de/rest/image/record_kuniweb_1346426/00000001.jpg/full/!800,800/0/default.jpg - [Errno 2] No such file or directory: '../../../Coding_da_Vinci/CdV_Niedersachsen_2020/Datengeber/Datensets/Landesmuseum Hannover/Ethnologie/Mediendateien/1346426_1.jpg'\n",
      "https://kulturerbe.niedersachsen.de/rest/image/record_kuniweb_1347738/00000001.jpg/full/!800,800/0/default.jpg\n",
      "1347738_1.jpg\n"
     ]
    },
    {
     "name": "stdout",
     "output_type": "stream",
     "text": [
      "ERROR - Could not save https://kulturerbe.niedersachsen.de/rest/image/record_kuniweb_1347738/00000001.jpg/full/!800,800/0/default.jpg - [Errno 2] No such file or directory: '../../../Coding_da_Vinci/CdV_Niedersachsen_2020/Datengeber/Datensets/Landesmuseum Hannover/Ethnologie/Mediendateien/1347738_1.jpg'\n",
      "https://kulturerbe.niedersachsen.de/rest/image/record_kuniweb_1350244/00000001.jpg/full/!800,800/0/default.jpg\n",
      "1350244_1.jpg\n",
      "ERROR - Could not save https://kulturerbe.niedersachsen.de/rest/image/record_kuniweb_1350244/00000001.jpg/full/!800,800/0/default.jpg - [Errno 2] No such file or directory: '../../../Coding_da_Vinci/CdV_Niedersachsen_2020/Datengeber/Datensets/Landesmuseum Hannover/Ethnologie/Mediendateien/1350244_1.jpg'\n",
      "https://kulturerbe.niedersachsen.de/rest/image/record_kuniweb_1352453/00000001.jpg/full/!800,800/0/default.jpg\n",
      "1352453_1.jpg\n",
      "ERROR - Could not save https://kulturerbe.niedersachsen.de/rest/image/record_kuniweb_1352453/00000001.jpg/full/!800,800/0/default.jpg - [Errno 2] No such file or directory: '../../../Coding_da_Vinci/CdV_Niedersachsen_2020/Datengeber/Datensets/Landesmuseum Hannover/Ethnologie/Mediendateien/1352453_1.jpg'\n",
      "https://kulturerbe.niedersachsen.de/rest/image/record_kuniweb_1346432/00000001.jpg/full/!800,800/0/default.jpg\n",
      "1346432_1.jpg\n",
      "ERROR - Could not save https://kulturerbe.niedersachsen.de/rest/image/record_kuniweb_1346432/00000001.jpg/full/!800,800/0/default.jpg - [Errno 2] No such file or directory: '../../../Coding_da_Vinci/CdV_Niedersachsen_2020/Datengeber/Datensets/Landesmuseum Hannover/Ethnologie/Mediendateien/1346432_1.jpg'\n",
      "https://kulturerbe.niedersachsen.de/rest/image/record_kuniweb_1350250/00000001.jpg/full/!800,800/0/default.jpg\n",
      "1350250_1.jpg\n",
      "ERROR - Could not save https://kulturerbe.niedersachsen.de/rest/image/record_kuniweb_1350250/00000001.jpg/full/!800,800/0/default.jpg - [Errno 2] No such file or directory: '../../../Coding_da_Vinci/CdV_Niedersachsen_2020/Datengeber/Datensets/Landesmuseum Hannover/Ethnologie/Mediendateien/1350250_1.jpg'\n",
      "https://kulturerbe.niedersachsen.de/rest/image/record_kuniweb_1350536/00000001.jpg/full/!800,800/0/default.jpg\n",
      "1350536_1.jpg\n"
     ]
    },
    {
     "ename": "KeyboardInterrupt",
     "evalue": "",
     "output_type": "error",
     "traceback": [
      "\u001b[0;31m---------------------------------------------------------------------------\u001b[0m",
      "\u001b[0;31mKeyboardInterrupt\u001b[0m                         Traceback (most recent call last)",
      "\u001b[0;32m<ipython-input-7-45f638886dbb>\u001b[0m in \u001b[0;36m<module>\u001b[0;34m\u001b[0m\n\u001b[1;32m     22\u001b[0m \u001b[0;34m\u001b[0m\u001b[0m\n\u001b[1;32m     23\u001b[0m             \u001b[0;31m# download image\u001b[0m\u001b[0;34m\u001b[0m\u001b[0;34m\u001b[0m\u001b[0m\n\u001b[0;32m---> 24\u001b[0;31m             \u001b[0mpersist_image\u001b[0m\u001b[0;34m(\u001b[0m\u001b[0;34m'../../../Coding_da_Vinci/CdV_Niedersachsen_2020/Datengeber/Datensets/Landesmuseum Hannover/Ethnologie/Mediendateien'\u001b[0m\u001b[0;34m,\u001b[0m\u001b[0mimage_uri\u001b[0m\u001b[0;34m)\u001b[0m\u001b[0;34m\u001b[0m\u001b[0m\n\u001b[0m",
      "\u001b[0;32m<ipython-input-6-41ffb190adc5>\u001b[0m in \u001b[0;36mpersist_image\u001b[0;34m(folder_path, url)\u001b[0m\n\u001b[1;32m      2\u001b[0m \u001b[0;32mdef\u001b[0m \u001b[0mpersist_image\u001b[0m\u001b[0;34m(\u001b[0m\u001b[0mfolder_path\u001b[0m\u001b[0;34m:\u001b[0m\u001b[0mstr\u001b[0m\u001b[0;34m,\u001b[0m\u001b[0murl\u001b[0m\u001b[0;34m:\u001b[0m\u001b[0mstr\u001b[0m\u001b[0;34m)\u001b[0m\u001b[0;34m:\u001b[0m\u001b[0;34m\u001b[0m\u001b[0m\n\u001b[1;32m      3\u001b[0m     \u001b[0;32mtry\u001b[0m\u001b[0;34m:\u001b[0m\u001b[0;34m\u001b[0m\u001b[0m\n\u001b[0;32m----> 4\u001b[0;31m         \u001b[0mimage_content\u001b[0m \u001b[0;34m=\u001b[0m \u001b[0mrequests\u001b[0m\u001b[0;34m.\u001b[0m\u001b[0mget\u001b[0m\u001b[0;34m(\u001b[0m\u001b[0murl\u001b[0m\u001b[0;34m)\u001b[0m\u001b[0;34m.\u001b[0m\u001b[0mcontent\u001b[0m\u001b[0;34m\u001b[0m\u001b[0m\n\u001b[0m\u001b[1;32m      5\u001b[0m \u001b[0;34m\u001b[0m\u001b[0m\n\u001b[1;32m      6\u001b[0m     \u001b[0;32mexcept\u001b[0m \u001b[0mException\u001b[0m \u001b[0;32mas\u001b[0m \u001b[0me\u001b[0m\u001b[0;34m:\u001b[0m\u001b[0;34m\u001b[0m\u001b[0m\n",
      "\u001b[0;32m/Library/Frameworks/Python.framework/Versions/3.6/lib/python3.6/site-packages/requests/api.py\u001b[0m in \u001b[0;36mget\u001b[0;34m(url, params, **kwargs)\u001b[0m\n\u001b[1;32m     74\u001b[0m \u001b[0;34m\u001b[0m\u001b[0m\n\u001b[1;32m     75\u001b[0m     \u001b[0mkwargs\u001b[0m\u001b[0;34m.\u001b[0m\u001b[0msetdefault\u001b[0m\u001b[0;34m(\u001b[0m\u001b[0;34m'allow_redirects'\u001b[0m\u001b[0;34m,\u001b[0m \u001b[0;32mTrue\u001b[0m\u001b[0;34m)\u001b[0m\u001b[0;34m\u001b[0m\u001b[0m\n\u001b[0;32m---> 76\u001b[0;31m     \u001b[0;32mreturn\u001b[0m \u001b[0mrequest\u001b[0m\u001b[0;34m(\u001b[0m\u001b[0;34m'get'\u001b[0m\u001b[0;34m,\u001b[0m \u001b[0murl\u001b[0m\u001b[0;34m,\u001b[0m \u001b[0mparams\u001b[0m\u001b[0;34m=\u001b[0m\u001b[0mparams\u001b[0m\u001b[0;34m,\u001b[0m \u001b[0;34m**\u001b[0m\u001b[0mkwargs\u001b[0m\u001b[0;34m)\u001b[0m\u001b[0;34m\u001b[0m\u001b[0m\n\u001b[0m\u001b[1;32m     77\u001b[0m \u001b[0;34m\u001b[0m\u001b[0m\n\u001b[1;32m     78\u001b[0m \u001b[0;34m\u001b[0m\u001b[0m\n",
      "\u001b[0;32m/Library/Frameworks/Python.framework/Versions/3.6/lib/python3.6/site-packages/requests/api.py\u001b[0m in \u001b[0;36mrequest\u001b[0;34m(method, url, **kwargs)\u001b[0m\n\u001b[1;32m     59\u001b[0m     \u001b[0;31m# cases, and look like a memory leak in others.\u001b[0m\u001b[0;34m\u001b[0m\u001b[0;34m\u001b[0m\u001b[0m\n\u001b[1;32m     60\u001b[0m     \u001b[0;32mwith\u001b[0m \u001b[0msessions\u001b[0m\u001b[0;34m.\u001b[0m\u001b[0mSession\u001b[0m\u001b[0;34m(\u001b[0m\u001b[0;34m)\u001b[0m \u001b[0;32mas\u001b[0m \u001b[0msession\u001b[0m\u001b[0;34m:\u001b[0m\u001b[0;34m\u001b[0m\u001b[0m\n\u001b[0;32m---> 61\u001b[0;31m         \u001b[0;32mreturn\u001b[0m \u001b[0msession\u001b[0m\u001b[0;34m.\u001b[0m\u001b[0mrequest\u001b[0m\u001b[0;34m(\u001b[0m\u001b[0mmethod\u001b[0m\u001b[0;34m=\u001b[0m\u001b[0mmethod\u001b[0m\u001b[0;34m,\u001b[0m \u001b[0murl\u001b[0m\u001b[0;34m=\u001b[0m\u001b[0murl\u001b[0m\u001b[0;34m,\u001b[0m \u001b[0;34m**\u001b[0m\u001b[0mkwargs\u001b[0m\u001b[0;34m)\u001b[0m\u001b[0;34m\u001b[0m\u001b[0m\n\u001b[0m\u001b[1;32m     62\u001b[0m \u001b[0;34m\u001b[0m\u001b[0m\n\u001b[1;32m     63\u001b[0m \u001b[0;34m\u001b[0m\u001b[0m\n",
      "\u001b[0;32m/Library/Frameworks/Python.framework/Versions/3.6/lib/python3.6/site-packages/requests/sessions.py\u001b[0m in \u001b[0;36mrequest\u001b[0;34m(self, method, url, params, data, headers, cookies, files, auth, timeout, allow_redirects, proxies, hooks, stream, verify, cert, json)\u001b[0m\n\u001b[1;32m    528\u001b[0m         }\n\u001b[1;32m    529\u001b[0m         \u001b[0msend_kwargs\u001b[0m\u001b[0;34m.\u001b[0m\u001b[0mupdate\u001b[0m\u001b[0;34m(\u001b[0m\u001b[0msettings\u001b[0m\u001b[0;34m)\u001b[0m\u001b[0;34m\u001b[0m\u001b[0m\n\u001b[0;32m--> 530\u001b[0;31m         \u001b[0mresp\u001b[0m \u001b[0;34m=\u001b[0m \u001b[0mself\u001b[0m\u001b[0;34m.\u001b[0m\u001b[0msend\u001b[0m\u001b[0;34m(\u001b[0m\u001b[0mprep\u001b[0m\u001b[0;34m,\u001b[0m \u001b[0;34m**\u001b[0m\u001b[0msend_kwargs\u001b[0m\u001b[0;34m)\u001b[0m\u001b[0;34m\u001b[0m\u001b[0m\n\u001b[0m\u001b[1;32m    531\u001b[0m \u001b[0;34m\u001b[0m\u001b[0m\n\u001b[1;32m    532\u001b[0m         \u001b[0;32mreturn\u001b[0m \u001b[0mresp\u001b[0m\u001b[0;34m\u001b[0m\u001b[0m\n",
      "\u001b[0;32m/Library/Frameworks/Python.framework/Versions/3.6/lib/python3.6/site-packages/requests/sessions.py\u001b[0m in \u001b[0;36msend\u001b[0;34m(self, request, **kwargs)\u001b[0m\n\u001b[1;32m    641\u001b[0m \u001b[0;34m\u001b[0m\u001b[0m\n\u001b[1;32m    642\u001b[0m         \u001b[0;31m# Send the request\u001b[0m\u001b[0;34m\u001b[0m\u001b[0;34m\u001b[0m\u001b[0m\n\u001b[0;32m--> 643\u001b[0;31m         \u001b[0mr\u001b[0m \u001b[0;34m=\u001b[0m \u001b[0madapter\u001b[0m\u001b[0;34m.\u001b[0m\u001b[0msend\u001b[0m\u001b[0;34m(\u001b[0m\u001b[0mrequest\u001b[0m\u001b[0;34m,\u001b[0m \u001b[0;34m**\u001b[0m\u001b[0mkwargs\u001b[0m\u001b[0;34m)\u001b[0m\u001b[0;34m\u001b[0m\u001b[0m\n\u001b[0m\u001b[1;32m    644\u001b[0m \u001b[0;34m\u001b[0m\u001b[0m\n\u001b[1;32m    645\u001b[0m         \u001b[0;31m# Total elapsed time of the request (approximately)\u001b[0m\u001b[0;34m\u001b[0m\u001b[0;34m\u001b[0m\u001b[0m\n",
      "\u001b[0;32m/Library/Frameworks/Python.framework/Versions/3.6/lib/python3.6/site-packages/requests/adapters.py\u001b[0m in \u001b[0;36msend\u001b[0;34m(self, request, stream, timeout, verify, cert, proxies)\u001b[0m\n\u001b[1;32m    447\u001b[0m                     \u001b[0mdecode_content\u001b[0m\u001b[0;34m=\u001b[0m\u001b[0;32mFalse\u001b[0m\u001b[0;34m,\u001b[0m\u001b[0;34m\u001b[0m\u001b[0m\n\u001b[1;32m    448\u001b[0m                     \u001b[0mretries\u001b[0m\u001b[0;34m=\u001b[0m\u001b[0mself\u001b[0m\u001b[0;34m.\u001b[0m\u001b[0mmax_retries\u001b[0m\u001b[0;34m,\u001b[0m\u001b[0;34m\u001b[0m\u001b[0m\n\u001b[0;32m--> 449\u001b[0;31m                     \u001b[0mtimeout\u001b[0m\u001b[0;34m=\u001b[0m\u001b[0mtimeout\u001b[0m\u001b[0;34m\u001b[0m\u001b[0m\n\u001b[0m\u001b[1;32m    450\u001b[0m                 )\n\u001b[1;32m    451\u001b[0m \u001b[0;34m\u001b[0m\u001b[0m\n",
      "\u001b[0;32m/Library/Frameworks/Python.framework/Versions/3.6/lib/python3.6/site-packages/urllib3/connectionpool.py\u001b[0m in \u001b[0;36murlopen\u001b[0;34m(self, method, url, body, headers, retries, redirect, assert_same_host, timeout, pool_timeout, release_conn, chunked, body_pos, **response_kw)\u001b[0m\n\u001b[1;32m    670\u001b[0m                 \u001b[0mbody\u001b[0m\u001b[0;34m=\u001b[0m\u001b[0mbody\u001b[0m\u001b[0;34m,\u001b[0m\u001b[0;34m\u001b[0m\u001b[0m\n\u001b[1;32m    671\u001b[0m                 \u001b[0mheaders\u001b[0m\u001b[0;34m=\u001b[0m\u001b[0mheaders\u001b[0m\u001b[0;34m,\u001b[0m\u001b[0;34m\u001b[0m\u001b[0m\n\u001b[0;32m--> 672\u001b[0;31m                 \u001b[0mchunked\u001b[0m\u001b[0;34m=\u001b[0m\u001b[0mchunked\u001b[0m\u001b[0;34m,\u001b[0m\u001b[0;34m\u001b[0m\u001b[0m\n\u001b[0m\u001b[1;32m    673\u001b[0m             )\n\u001b[1;32m    674\u001b[0m \u001b[0;34m\u001b[0m\u001b[0m\n",
      "\u001b[0;32m/Library/Frameworks/Python.framework/Versions/3.6/lib/python3.6/site-packages/urllib3/connectionpool.py\u001b[0m in \u001b[0;36m_make_request\u001b[0;34m(self, conn, method, url, timeout, chunked, **httplib_request_kw)\u001b[0m\n\u001b[1;32m    419\u001b[0m                     \u001b[0;31m# Python 3 (including for exceptions like SystemExit).\u001b[0m\u001b[0;34m\u001b[0m\u001b[0;34m\u001b[0m\u001b[0m\n\u001b[1;32m    420\u001b[0m                     \u001b[0;31m# Otherwise it looks like a bug in the code.\u001b[0m\u001b[0;34m\u001b[0m\u001b[0;34m\u001b[0m\u001b[0m\n\u001b[0;32m--> 421\u001b[0;31m                     \u001b[0msix\u001b[0m\u001b[0;34m.\u001b[0m\u001b[0mraise_from\u001b[0m\u001b[0;34m(\u001b[0m\u001b[0me\u001b[0m\u001b[0;34m,\u001b[0m \u001b[0;32mNone\u001b[0m\u001b[0;34m)\u001b[0m\u001b[0;34m\u001b[0m\u001b[0m\n\u001b[0m\u001b[1;32m    422\u001b[0m         \u001b[0;32mexcept\u001b[0m \u001b[0;34m(\u001b[0m\u001b[0mSocketTimeout\u001b[0m\u001b[0;34m,\u001b[0m \u001b[0mBaseSSLError\u001b[0m\u001b[0;34m,\u001b[0m \u001b[0mSocketError\u001b[0m\u001b[0;34m)\u001b[0m \u001b[0;32mas\u001b[0m \u001b[0me\u001b[0m\u001b[0;34m:\u001b[0m\u001b[0;34m\u001b[0m\u001b[0m\n\u001b[1;32m    423\u001b[0m             \u001b[0mself\u001b[0m\u001b[0;34m.\u001b[0m\u001b[0m_raise_timeout\u001b[0m\u001b[0;34m(\u001b[0m\u001b[0merr\u001b[0m\u001b[0;34m=\u001b[0m\u001b[0me\u001b[0m\u001b[0;34m,\u001b[0m \u001b[0murl\u001b[0m\u001b[0;34m=\u001b[0m\u001b[0murl\u001b[0m\u001b[0;34m,\u001b[0m \u001b[0mtimeout_value\u001b[0m\u001b[0;34m=\u001b[0m\u001b[0mread_timeout\u001b[0m\u001b[0;34m)\u001b[0m\u001b[0;34m\u001b[0m\u001b[0m\n",
      "\u001b[0;32m/Library/Frameworks/Python.framework/Versions/3.6/lib/python3.6/site-packages/urllib3/packages/six.py\u001b[0m in \u001b[0;36mraise_from\u001b[0;34m(value, from_value)\u001b[0m\n",
      "\u001b[0;32m/Library/Frameworks/Python.framework/Versions/3.6/lib/python3.6/site-packages/urllib3/connectionpool.py\u001b[0m in \u001b[0;36m_make_request\u001b[0;34m(self, conn, method, url, timeout, chunked, **httplib_request_kw)\u001b[0m\n\u001b[1;32m    414\u001b[0m                 \u001b[0;31m# Python 3\u001b[0m\u001b[0;34m\u001b[0m\u001b[0;34m\u001b[0m\u001b[0m\n\u001b[1;32m    415\u001b[0m                 \u001b[0;32mtry\u001b[0m\u001b[0;34m:\u001b[0m\u001b[0;34m\u001b[0m\u001b[0m\n\u001b[0;32m--> 416\u001b[0;31m                     \u001b[0mhttplib_response\u001b[0m \u001b[0;34m=\u001b[0m \u001b[0mconn\u001b[0m\u001b[0;34m.\u001b[0m\u001b[0mgetresponse\u001b[0m\u001b[0;34m(\u001b[0m\u001b[0;34m)\u001b[0m\u001b[0;34m\u001b[0m\u001b[0m\n\u001b[0m\u001b[1;32m    417\u001b[0m                 \u001b[0;32mexcept\u001b[0m \u001b[0mBaseException\u001b[0m \u001b[0;32mas\u001b[0m \u001b[0me\u001b[0m\u001b[0;34m:\u001b[0m\u001b[0;34m\u001b[0m\u001b[0m\n\u001b[1;32m    418\u001b[0m                     \u001b[0;31m# Remove the TypeError from the exception chain in\u001b[0m\u001b[0;34m\u001b[0m\u001b[0;34m\u001b[0m\u001b[0m\n",
      "\u001b[0;32m/Library/Frameworks/Python.framework/Versions/3.6/lib/python3.6/http/client.py\u001b[0m in \u001b[0;36mgetresponse\u001b[0;34m(self)\u001b[0m\n\u001b[1;32m   1329\u001b[0m         \u001b[0;32mtry\u001b[0m\u001b[0;34m:\u001b[0m\u001b[0;34m\u001b[0m\u001b[0m\n\u001b[1;32m   1330\u001b[0m             \u001b[0;32mtry\u001b[0m\u001b[0;34m:\u001b[0m\u001b[0;34m\u001b[0m\u001b[0m\n\u001b[0;32m-> 1331\u001b[0;31m                 \u001b[0mresponse\u001b[0m\u001b[0;34m.\u001b[0m\u001b[0mbegin\u001b[0m\u001b[0;34m(\u001b[0m\u001b[0;34m)\u001b[0m\u001b[0;34m\u001b[0m\u001b[0m\n\u001b[0m\u001b[1;32m   1332\u001b[0m             \u001b[0;32mexcept\u001b[0m \u001b[0mConnectionError\u001b[0m\u001b[0;34m:\u001b[0m\u001b[0;34m\u001b[0m\u001b[0m\n\u001b[1;32m   1333\u001b[0m                 \u001b[0mself\u001b[0m\u001b[0;34m.\u001b[0m\u001b[0mclose\u001b[0m\u001b[0;34m(\u001b[0m\u001b[0;34m)\u001b[0m\u001b[0;34m\u001b[0m\u001b[0m\n",
      "\u001b[0;32m/Library/Frameworks/Python.framework/Versions/3.6/lib/python3.6/http/client.py\u001b[0m in \u001b[0;36mbegin\u001b[0;34m(self)\u001b[0m\n\u001b[1;32m    295\u001b[0m         \u001b[0;31m# read until we get a non-100 response\u001b[0m\u001b[0;34m\u001b[0m\u001b[0;34m\u001b[0m\u001b[0m\n\u001b[1;32m    296\u001b[0m         \u001b[0;32mwhile\u001b[0m \u001b[0;32mTrue\u001b[0m\u001b[0;34m:\u001b[0m\u001b[0;34m\u001b[0m\u001b[0m\n\u001b[0;32m--> 297\u001b[0;31m             \u001b[0mversion\u001b[0m\u001b[0;34m,\u001b[0m \u001b[0mstatus\u001b[0m\u001b[0;34m,\u001b[0m \u001b[0mreason\u001b[0m \u001b[0;34m=\u001b[0m \u001b[0mself\u001b[0m\u001b[0;34m.\u001b[0m\u001b[0m_read_status\u001b[0m\u001b[0;34m(\u001b[0m\u001b[0;34m)\u001b[0m\u001b[0;34m\u001b[0m\u001b[0m\n\u001b[0m\u001b[1;32m    298\u001b[0m             \u001b[0;32mif\u001b[0m \u001b[0mstatus\u001b[0m \u001b[0;34m!=\u001b[0m \u001b[0mCONTINUE\u001b[0m\u001b[0;34m:\u001b[0m\u001b[0;34m\u001b[0m\u001b[0m\n\u001b[1;32m    299\u001b[0m                 \u001b[0;32mbreak\u001b[0m\u001b[0;34m\u001b[0m\u001b[0m\n",
      "\u001b[0;32m/Library/Frameworks/Python.framework/Versions/3.6/lib/python3.6/http/client.py\u001b[0m in \u001b[0;36m_read_status\u001b[0;34m(self)\u001b[0m\n\u001b[1;32m    256\u001b[0m \u001b[0;34m\u001b[0m\u001b[0m\n\u001b[1;32m    257\u001b[0m     \u001b[0;32mdef\u001b[0m \u001b[0m_read_status\u001b[0m\u001b[0;34m(\u001b[0m\u001b[0mself\u001b[0m\u001b[0;34m)\u001b[0m\u001b[0;34m:\u001b[0m\u001b[0;34m\u001b[0m\u001b[0m\n\u001b[0;32m--> 258\u001b[0;31m         \u001b[0mline\u001b[0m \u001b[0;34m=\u001b[0m \u001b[0mstr\u001b[0m\u001b[0;34m(\u001b[0m\u001b[0mself\u001b[0m\u001b[0;34m.\u001b[0m\u001b[0mfp\u001b[0m\u001b[0;34m.\u001b[0m\u001b[0mreadline\u001b[0m\u001b[0;34m(\u001b[0m\u001b[0m_MAXLINE\u001b[0m \u001b[0;34m+\u001b[0m \u001b[0;36m1\u001b[0m\u001b[0;34m)\u001b[0m\u001b[0;34m,\u001b[0m \u001b[0;34m\"iso-8859-1\"\u001b[0m\u001b[0;34m)\u001b[0m\u001b[0;34m\u001b[0m\u001b[0m\n\u001b[0m\u001b[1;32m    259\u001b[0m         \u001b[0;32mif\u001b[0m \u001b[0mlen\u001b[0m\u001b[0;34m(\u001b[0m\u001b[0mline\u001b[0m\u001b[0;34m)\u001b[0m \u001b[0;34m>\u001b[0m \u001b[0m_MAXLINE\u001b[0m\u001b[0;34m:\u001b[0m\u001b[0;34m\u001b[0m\u001b[0m\n\u001b[1;32m    260\u001b[0m             \u001b[0;32mraise\u001b[0m \u001b[0mLineTooLong\u001b[0m\u001b[0;34m(\u001b[0m\u001b[0;34m\"status line\"\u001b[0m\u001b[0;34m)\u001b[0m\u001b[0;34m\u001b[0m\u001b[0m\n",
      "\u001b[0;32m/Library/Frameworks/Python.framework/Versions/3.6/lib/python3.6/socket.py\u001b[0m in \u001b[0;36mreadinto\u001b[0;34m(self, b)\u001b[0m\n\u001b[1;32m    584\u001b[0m         \u001b[0;32mwhile\u001b[0m \u001b[0;32mTrue\u001b[0m\u001b[0;34m:\u001b[0m\u001b[0;34m\u001b[0m\u001b[0m\n\u001b[1;32m    585\u001b[0m             \u001b[0;32mtry\u001b[0m\u001b[0;34m:\u001b[0m\u001b[0;34m\u001b[0m\u001b[0m\n\u001b[0;32m--> 586\u001b[0;31m                 \u001b[0;32mreturn\u001b[0m \u001b[0mself\u001b[0m\u001b[0;34m.\u001b[0m\u001b[0m_sock\u001b[0m\u001b[0;34m.\u001b[0m\u001b[0mrecv_into\u001b[0m\u001b[0;34m(\u001b[0m\u001b[0mb\u001b[0m\u001b[0;34m)\u001b[0m\u001b[0;34m\u001b[0m\u001b[0m\n\u001b[0m\u001b[1;32m    587\u001b[0m             \u001b[0;32mexcept\u001b[0m \u001b[0mtimeout\u001b[0m\u001b[0;34m:\u001b[0m\u001b[0;34m\u001b[0m\u001b[0m\n\u001b[1;32m    588\u001b[0m                 \u001b[0mself\u001b[0m\u001b[0;34m.\u001b[0m\u001b[0m_timeout_occurred\u001b[0m \u001b[0;34m=\u001b[0m \u001b[0;32mTrue\u001b[0m\u001b[0;34m\u001b[0m\u001b[0m\n",
      "\u001b[0;32m/Library/Frameworks/Python.framework/Versions/3.6/lib/python3.6/site-packages/urllib3/contrib/pyopenssl.py\u001b[0m in \u001b[0;36mrecv_into\u001b[0;34m(self, *args, **kwargs)\u001b[0m\n\u001b[1;32m    311\u001b[0m     \u001b[0;32mdef\u001b[0m \u001b[0mrecv_into\u001b[0m\u001b[0;34m(\u001b[0m\u001b[0mself\u001b[0m\u001b[0;34m,\u001b[0m \u001b[0;34m*\u001b[0m\u001b[0margs\u001b[0m\u001b[0;34m,\u001b[0m \u001b[0;34m**\u001b[0m\u001b[0mkwargs\u001b[0m\u001b[0;34m)\u001b[0m\u001b[0;34m:\u001b[0m\u001b[0;34m\u001b[0m\u001b[0m\n\u001b[1;32m    312\u001b[0m         \u001b[0;32mtry\u001b[0m\u001b[0;34m:\u001b[0m\u001b[0;34m\u001b[0m\u001b[0m\n\u001b[0;32m--> 313\u001b[0;31m             \u001b[0;32mreturn\u001b[0m \u001b[0mself\u001b[0m\u001b[0;34m.\u001b[0m\u001b[0mconnection\u001b[0m\u001b[0;34m.\u001b[0m\u001b[0mrecv_into\u001b[0m\u001b[0;34m(\u001b[0m\u001b[0;34m*\u001b[0m\u001b[0margs\u001b[0m\u001b[0;34m,\u001b[0m \u001b[0;34m**\u001b[0m\u001b[0mkwargs\u001b[0m\u001b[0;34m)\u001b[0m\u001b[0;34m\u001b[0m\u001b[0m\n\u001b[0m\u001b[1;32m    314\u001b[0m         \u001b[0;32mexcept\u001b[0m \u001b[0mOpenSSL\u001b[0m\u001b[0;34m.\u001b[0m\u001b[0mSSL\u001b[0m\u001b[0;34m.\u001b[0m\u001b[0mSysCallError\u001b[0m \u001b[0;32mas\u001b[0m \u001b[0me\u001b[0m\u001b[0;34m:\u001b[0m\u001b[0;34m\u001b[0m\u001b[0m\n\u001b[1;32m    315\u001b[0m             \u001b[0;32mif\u001b[0m \u001b[0mself\u001b[0m\u001b[0;34m.\u001b[0m\u001b[0msuppress_ragged_eofs\u001b[0m \u001b[0;32mand\u001b[0m \u001b[0me\u001b[0m\u001b[0;34m.\u001b[0m\u001b[0margs\u001b[0m \u001b[0;34m==\u001b[0m \u001b[0;34m(\u001b[0m\u001b[0;34m-\u001b[0m\u001b[0;36m1\u001b[0m\u001b[0;34m,\u001b[0m \u001b[0;34m\"Unexpected EOF\"\u001b[0m\u001b[0;34m)\u001b[0m\u001b[0;34m:\u001b[0m\u001b[0;34m\u001b[0m\u001b[0m\n",
      "\u001b[0;32m/Library/Frameworks/Python.framework/Versions/3.6/lib/python3.6/site-packages/OpenSSL/SSL.py\u001b[0m in \u001b[0;36mrecv_into\u001b[0;34m(self, buffer, nbytes, flags)\u001b[0m\n\u001b[1;32m   1731\u001b[0m             \u001b[0mresult\u001b[0m \u001b[0;34m=\u001b[0m \u001b[0m_lib\u001b[0m\u001b[0;34m.\u001b[0m\u001b[0mSSL_peek\u001b[0m\u001b[0;34m(\u001b[0m\u001b[0mself\u001b[0m\u001b[0;34m.\u001b[0m\u001b[0m_ssl\u001b[0m\u001b[0;34m,\u001b[0m \u001b[0mbuf\u001b[0m\u001b[0;34m,\u001b[0m \u001b[0mnbytes\u001b[0m\u001b[0;34m)\u001b[0m\u001b[0;34m\u001b[0m\u001b[0m\n\u001b[1;32m   1732\u001b[0m         \u001b[0;32melse\u001b[0m\u001b[0;34m:\u001b[0m\u001b[0;34m\u001b[0m\u001b[0m\n\u001b[0;32m-> 1733\u001b[0;31m             \u001b[0mresult\u001b[0m \u001b[0;34m=\u001b[0m \u001b[0m_lib\u001b[0m\u001b[0;34m.\u001b[0m\u001b[0mSSL_read\u001b[0m\u001b[0;34m(\u001b[0m\u001b[0mself\u001b[0m\u001b[0;34m.\u001b[0m\u001b[0m_ssl\u001b[0m\u001b[0;34m,\u001b[0m \u001b[0mbuf\u001b[0m\u001b[0;34m,\u001b[0m \u001b[0mnbytes\u001b[0m\u001b[0;34m)\u001b[0m\u001b[0;34m\u001b[0m\u001b[0m\n\u001b[0m\u001b[1;32m   1734\u001b[0m         \u001b[0mself\u001b[0m\u001b[0;34m.\u001b[0m\u001b[0m_raise_ssl_error\u001b[0m\u001b[0;34m(\u001b[0m\u001b[0mself\u001b[0m\u001b[0;34m.\u001b[0m\u001b[0m_ssl\u001b[0m\u001b[0;34m,\u001b[0m \u001b[0mresult\u001b[0m\u001b[0;34m)\u001b[0m\u001b[0;34m\u001b[0m\u001b[0m\n\u001b[1;32m   1735\u001b[0m \u001b[0;34m\u001b[0m\u001b[0m\n",
      "\u001b[0;31mKeyboardInterrupt\u001b[0m: "
     ]
    }
   ],
   "source": [
    "for xml_file in xml_files:\n",
    "    tree = ET.parse(xml_file)\n",
    "    root = tree.getroot()\n",
    "    file_sections = root.findall('./mets:fileSec', ns)\n",
    "    for file_section in file_sections:\n",
    "        files = file_section.findall('.//mets:file', ns)\n",
    "        for file in files:\n",
    "            file_location = file.find('./mets:FLocat', ns)\n",
    "            # get original uri\n",
    "            image_uri = file_location.get('{http://www.w3.org/1999/xlink}href')\n",
    "\n",
    "            # get reduced size image uri\n",
    "            image_uri = image_uri.replace('full/full','full/!800,800')\n",
    "            print(image_uri)\n",
    "\n",
    "            # set name of image file\n",
    "            image_name_start = image_uri.find('kuniweb_') + 8\n",
    "            image_name_end = image_name_start + 6\n",
    "            suffix_index = image_name_end + 9\n",
    "            image_name = image_uri[image_name_start:image_name_end+1] + '_' + image_uri[suffix_index] + '.jpg'\n",
    "            print(image_name)\n",
    "\n",
    "            # download image\n",
    "            persist_image('../../../Coding_da_Vinci/CdV_Niedersachsen_2020/Datengeber/Datensets/Landesmuseum Hannover/Ethnologie/Mediendateien',image_uri)"
   ]
  }
 ],
 "metadata": {
  "kernelspec": {
   "display_name": "Python 3",
   "language": "python",
   "name": "python3"
  },
  "language_info": {
   "codemirror_mode": {
    "name": "ipython",
    "version": 3
   },
   "file_extension": ".py",
   "mimetype": "text/x-python",
   "name": "python",
   "nbconvert_exporter": "python",
   "pygments_lexer": "ipython3",
   "version": "3.6.5"
  }
 },
 "nbformat": 4,
 "nbformat_minor": 4
}
